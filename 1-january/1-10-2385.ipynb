{
 "cells": [
  {
   "cell_type": "markdown",
   "metadata": {},
   "source": [
    "### 2385. Amount of Time for Binary Tree to Be Infected\n",
    "\n",
    "- Difficulty: **Medium**\n",
    "\n",
    "You are given the root of a binary tree with unique values, and an integer start. At minute 0, an infection starts from the node with value start.\n",
    "\n",
    "Each minute, a node becomes infected if:\n",
    "\n",
    "The node is currently uninfected.\n",
    "The node is adjacent to an infected node.\n",
    "Return the number of minutes needed for the entire tree to be infected.\n",
    "\n",
    "Example 1:\n",
    "\n",
    "Input: root = [1,5,3,null,4,10,6,9,2], start = 3\n",
    "Output: 4\n",
    "Explanation: The following nodes are infected during:\n",
    "- Minute 0: Node 3\n",
    "- Minute 1: Nodes 1, 10 and 6\n",
    "- Minute 2: Node 5\n",
    "- Minute 3: Node 4\n",
    "- Minute 4: Nodes 9 and 2\n",
    "It takes 4 minutes for the whole tree to be infected so we return 4.\n",
    "Example 2:\n",
    "\n",
    "Input: root = [1], start = 1\n",
    "Output: 0\n",
    "Explanation: At minute 0, the only node in the tree is infected so we return 0.\n",
    " \n",
    "Constraints:\n",
    "\n",
    "- The number of nodes in the tree is in the range [1, 105].\n",
    "- 1 <= Node.val <= 105\n",
    "- Each node has a unique value.\n",
    "- A node with a value of start exists in the tree."
   ]
  },
  {
   "cell_type": "code",
   "execution_count": null,
   "metadata": {},
   "outputs": [],
   "source": [
    "# Import typing for type hinting\n",
    "from typing import Optional\n",
    "from Collections import defaultdict, deque"
   ]
  },
  {
   "cell_type": "code",
   "execution_count": null,
   "metadata": {},
   "outputs": [],
   "source": [
    "# Definition for a binary tree node.\n",
    "class TreeNode:\n",
    "    def __init__(self, val=0, left=None, right=None):\n",
    "        self.val = val\n",
    "        self.left = left\n",
    "\n",
    "class Solution:\n",
    "    def amountOfTime(self, root: Optional[TreeNode], start: int) -> int:\n",
    "        graph=defaultdict(list)\n",
    "        stack=[(root,None)]\n",
    "        while stack:\n",
    "            n,p=stack.pop()\n",
    "            if p:\n",
    "                graph[p.val].append(n.val)\n",
    "                graph[n.val].append(p.val)\n",
    "            if n.left:\n",
    "                stack.append((n.left,n))\n",
    "            if n.right:\n",
    "                stack.append((n.right,n))\n",
    "        ans=-1\n",
    "        seen={start}\n",
    "        queue=deque([start])\n",
    "        while queue:\n",
    "            for _ in range(len(queue)):\n",
    "                u=queue.popleft()\n",
    "                for v in graph[u]:\n",
    "                    if v not in seen:\n",
    "                        seen.add(v)\n",
    "                        queue.append(v)\n",
    "            ans+=1\n",
    "        return ans"
   ]
  },
  {
   "cell_type": "markdown",
   "metadata": {},
   "source": [
    "## Submissions\n",
    "\n",
    "|#|% of tests passed|Runtime (ms)|Memory usage (MB)|Language|\n",
    "|---|---|---|---|---|\n",
    "|1|100%|39|18.89|python3|\n",
    "\n",
    "## Lesson of the day\n",
    "\n",
    "- Tree searching algorithm such as DFS, BFS, Greedy search and UCS may be useful in leetcode and interview problems"
   ]
  }
 ],
 "metadata": {
  "language_info": {
   "name": "python"
  }
 },
 "nbformat": 4,
 "nbformat_minor": 2
}
