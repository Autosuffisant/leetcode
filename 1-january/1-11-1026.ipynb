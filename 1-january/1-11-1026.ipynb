{
 "cells": [
  {
   "cell_type": "markdown",
   "metadata": {},
   "source": [
    "### 1026. Maximum Difference Between Node and Ancestor\n",
    "\n",
    "Difficulty **Medium**\n",
    "\n",
    "Given the root of a binary tree, find the maximum value v for which there exist different nodes a and b where v = |a.val - b.val| and a is an ancestor of b.\n",
    "\n",
    "A node a is an ancestor of b if either: any child of a is equal to b or any child of a is an ancestor of b.\n",
    "\n",
    "Example 1:\n",
    "\n",
    "Input: root = [8,3,10,1,6,null,14,null,null,4,7,13]\n",
    "Output: 7\n",
    "Explanation: We have various ancestor-node differences, some of which are given below :\n",
    "|8 - 3| = 5\n",
    "|3 - 7| = 4\n",
    "|8 - 1| = 7\n",
    "|10 - 13| = 3\n",
    "Among all possible differences, the maximum value of 7 is obtained by |8 - 1| = 7.\n",
    "\n",
    "Example 2:\n",
    "\n",
    "Input: root = [1,null,2,null,0,3]\n",
    "Output: 3\n",
    " \n",
    "Constraints:\n",
    "\n",
    "- The number of nodes in the tree is in the range [2, 5000].\n",
    "- 0 <= Node.val <= 105"
   ]
  },
  {
   "cell_type": "code",
   "execution_count": null,
   "metadata": {},
   "outputs": [],
   "source": [
    "# Import types for type hinting\n",
    "from typing import Optional"
   ]
  },
  {
   "cell_type": "code",
   "execution_count": null,
   "metadata": {},
   "outputs": [],
   "source": [
    "# Definition for a binary tree node.\n",
    "class TreeNode:\n",
    "    def __init__(self, val=0, left=None, right=None):\n",
    "        self.val = val\n",
    "        self.left = left\n",
    "        self.right = right\n",
    "\n",
    "class Solution:\n",
    "    def maxAncestorDiff(self, root: Optional[TreeNode]) -> int:\n",
    "        self.max_diff = 0\n",
    "        self.dfs(root, root.val, root.val)\n",
    "        return self.max_diff\n",
    "\n",
    "    def dfs(self, node, min_val, max_val):\n",
    "        if not node:\n",
    "            return\n",
    "        self.max_diff = max(self.max_diff, abs(node.val - min_val), abs(node.val - max_val))\n",
    "        min_val = min(min_val, node.val)\n",
    "        max_val = max(max_val, node.val)\n",
    "        self.dfs(node.left, min_val, max_val)\n",
    "        self.dfs(node.right, min_val, max_val)"
   ]
  },
  {
   "cell_type": "markdown",
   "metadata": {},
   "source": [
    "### Submissions\n",
    "\n",
    "|#|% of tests passed|Runtime (ms)|Memory usage (MB)|Language|\n",
    "|---|---|---|---|---|\n",
    "|1|100%|39|18.89|Python3|"
   ]
  }
 ],
 "metadata": {
  "kernelspec": {
   "display_name": "Python 3",
   "language": "python",
   "name": "python3"
  },
  "language_info": {
   "name": "python",
   "version": "3.11.6"
  }
 },
 "nbformat": 4,
 "nbformat_minor": 2
}
