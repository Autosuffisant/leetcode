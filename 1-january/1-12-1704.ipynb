{
 "cells": [
  {
   "cell_type": "markdown",
   "metadata": {},
   "source": [
    "### 1704. Determine if String Halves Are Alike\n",
    "\n",
    "Difficulty: **Easy**\n",
    "\n",
    "You are given a string s of even length. Split this string into two halves of equal lengths, and let a be the first half and b be the second half.\n",
    "\n",
    "Two strings are alike if they have the same number of vowels ('a', 'e', 'i', 'o', 'u', 'A', 'E', 'I', 'O', 'U'). Notice that s contains uppercase and lowercase letters.\n",
    "\n",
    "Return true if a and b are alike. Otherwise, return false.\n",
    "\n",
    "Example 1:\n",
    "\n",
    "Input: s = \"book\"\n",
    "Output: true\n",
    "Explanation: a = \"bo\" and b = \"ok\". a has 1 vowel and b has 1 vowel. Therefore, they are alike.\n",
    "Example 2:\n",
    "\n",
    "Input: s = \"textbook\"\n",
    "Output: false\n",
    "Explanation: a = \"text\" and b = \"book\". a has 1 vowel whereas b has 2. Therefore, they are not alike.\n",
    "Notice that the vowel o is counted twice.\n",
    " \n",
    "Constraints:\n",
    "\n",
    "- 2 <= s.length <= 1000\n",
    "- s.length is even.\n",
    "- s consists of uppercase and lowercase letters."
   ]
  },
  {
   "cell_type": "code",
   "execution_count": null,
   "metadata": {},
   "outputs": [],
   "source": [
    "class Solution:\n",
    "    def halvesAreAlike(self, s: str) -> bool:\n",
    "        sList = list(s.lower())\n",
    "        sLen = len(sList)\n",
    "\n",
    "        s1 = sList[:sLen // 2]\n",
    "        s2 = sList[sLen // 2:]\n",
    "\n",
    "        v1 = sum([1 for c in s1 if c in 'aeiou'])\n",
    "        v2 = sum([1 for c in s2 if c in 'aeiou'])\n",
    "\n",
    "        return v1 == v2"
   ]
  },
  {
   "cell_type": "markdown",
   "metadata": {},
   "source": [
    "|#|% of tests passed|Runtime (ms)|Memory usage (MB)|Language|\n",
    "|---|---|---|---|---|\n",
    "|1|100%|40|17.36|Python3|"
   ]
  }
 ],
 "metadata": {
  "kernelspec": {
   "display_name": "Python 3",
   "language": "python",
   "name": "python3"
  },
  "language_info": {
   "name": "python",
   "version": "3.11.6"
  }
 },
 "nbformat": 4,
 "nbformat_minor": 2
}
