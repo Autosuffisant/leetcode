{
 "cells": [
  {
   "cell_type": "markdown",
   "metadata": {},
   "source": [
    "### 1347. Minimum Number of Steps to Make Two Strings Anagram\n",
    "\n",
    "Difficulty: **Medium**\n",
    "\n",
    "You are given two strings of the same length s and t. In one step you can choose any character of t and replace it with another character.\n",
    "\n",
    "Return the minimum number of steps to make t an anagram of s.\n",
    "\n",
    "An Anagram of a string is a string that contains the same characters with a different (or the same) ordering.\n",
    "\n",
    "Example 1:\n",
    "\n",
    "Input: s = \"bab\", t = \"aba\"\n",
    "Output: 1\n",
    "Explanation: Replace the first 'a' in t with b, t = \"bba\" which is anagram of s.\n",
    "Example 2:\n",
    "\n",
    "Input: s = \"leetcode\", t = \"practice\"\n",
    "Output: 5\n",
    "Explanation: Replace 'p', 'r', 'a', 'i' and 'c' from t with proper characters to make t anagram of s.\n",
    "Example 3:\n",
    "\n",
    "Input: s = \"anagram\", t = \"mangaar\"\n",
    "Output: 0\n",
    "Explanation: \"anagram\" and \"mangaar\" are anagrams. \n",
    "\n",
    "Constraints:\n",
    "\n",
    "- 1 <= s.length <= 5 * 104\n",
    "- s.length == t.length\n",
    "- s and t consist of lowercase English letters only."
   ]
  },
  {
   "cell_type": "code",
   "execution_count": null,
   "metadata": {},
   "outputs": [],
   "source": [
    "class Solution:\n",
    "    def minSteps(self, s: str, t: str) -> int:\n",
    "        sLetters = dict()\n",
    "        tLetters = dict()\n",
    "\n",
    "        for letter in s:\n",
    "            sLetters[letter] = sLetters.get(letter, 0) + 1\n",
    "\n",
    "        for letter in t:\n",
    "            tLetters[letter] = tLetters.get(letter, 0) + 1\n",
    "\n",
    "        for letter in \"abcdefghijklmnopqrstuvwxyz\":\n",
    "            sOccurence = sLetters.get(letter, 0)\n",
    "            tOccurence = tLetters.get(letter, 0)\n",
    "\n",
    "            if sOccurence > tOccurence:\n",
    "                sLetters[letter] = sOccurence - tOccurence\n",
    "            else:\n",
    "                sLetters[letter] = 0\n",
    "\n",
    "        return sum(sLetters.values())"
   ]
  },
  {
   "cell_type": "markdown",
   "metadata": {},
   "source": [
    "|#|% of tests passed|Runtime (ms)|Memory usage (MB)|Language|\n",
    "|---|---|---|---|---|\n",
    "|1|100%|160|17.98|Python3|\n",
    "|2|100%|139|17.9|Python3|\n",
    "|3|100%|125|17.7|Python3|"
   ]
  }
 ],
 "metadata": {
  "language_info": {
   "name": "python"
  }
 },
 "nbformat": 4,
 "nbformat_minor": 2
}
