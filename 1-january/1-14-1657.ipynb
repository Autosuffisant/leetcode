{
 "cells": [
  {
   "cell_type": "markdown",
   "metadata": {},
   "source": [
    "### 1657. Determine if Two Strings Are Close\n",
    "\n",
    "Difficulty: **Medium**\n",
    "\n",
    "Two strings are considered close if you can attain one from the other using the following operations:\n",
    "\n",
    "Operation 1: Swap any two existing characters.\n",
    "For example, abcde -> aecdb\n",
    "Operation 2: Transform every occurrence of one existing character into another existing character, and do the same with the other character.\n",
    "For example, aacabb -> bbcbaa (all a's turn into b's, and all b's turn into a's)\n",
    "You can use the operations on either string as many times as necessary.\n",
    "\n",
    "Given two strings, word1 and word2, return true if word1 and word2 are close, and false otherwise.\n",
    "\n",
    "Example 1:\n",
    "\n",
    "Input: word1 = \"abc\", word2 = \"bca\"\n",
    "Output: true\n",
    "Explanation: You can attain word2 from word1 in 2 operations.\n",
    "Apply Operation 1: \"abc\" -> \"acb\"\n",
    "Apply Operation 1: \"acb\" -> \"bca\"\n",
    "Example 2:\n",
    "\n",
    "Input: word1 = \"a\", word2 = \"aa\"\n",
    "Output: false\n",
    "Explanation: It is impossible to attain word2 from word1, or vice versa, in any number of operations.\n",
    "Example 3:\n",
    "\n",
    "Input: word1 = \"cabbba\", word2 = \"abbccc\"\n",
    "Output: true\n",
    "Explanation: You can attain word2 from word1 in 3 operations.\n",
    "Apply Operation 1: \"cabbba\" -> \"caabbb\"\n",
    "Apply Operation 2: \"caabbb\" -> \"baaccc\"\n",
    "Apply Operation 2: \"baaccc\" -> \"abbccc\"\n",
    " \n",
    "\n",
    "Constraints:\n",
    "\n",
    "- 1 <= word1.length, word2.length <= 105\n",
    "- word1 and word2 contain only lowercase English letters."
   ]
  },
  {
   "cell_type": "code",
   "execution_count": null,
   "metadata": {},
   "outputs": [],
   "source": [
    "from Collections import Counter\n",
    "\n",
    "class Solution:\n",
    "    def closeStrings(self, word1: str, word2: str) -> bool:\n",
    "        if len(word1) != len(word2):\n",
    "            return False\n",
    "\n",
    "        c1 = Counter(word1)\n",
    "        c2 = Counter(word2)\n",
    "\n",
    "        freq1 = sorted(c1.values())\n",
    "        freq2 = sorted(c2.values())\n",
    "\n",
    "        if freq1 == freq2:\n",
    "            for key in c1:\n",
    "                if key not in c2:\n",
    "                    return False\n",
    "            for key in c2:\n",
    "                if key not in c1:\n",
    "                    return False\n",
    "\n",
    "        else:\n",
    "            return False\n",
    "        return True\n",
    "\n"
   ]
  },
  {
   "cell_type": "markdown",
   "metadata": {},
   "source": [
    "## Submission results\n",
    "\n",
    "1. Solution (python3)\n",
    "    - Runtime: Beats 33.97% of users\n",
    "    - Memory Usage: Beats 8,48% of users\n",
    "\n",
    "## Lesson of the day\n",
    "\n",
    "- `Counter` is a very useful and fast tool for counting the number of each character in a string\n",
    "- 'is not' is not the same as '!=', the former is for checking if two objects are the same, the latter is for checking if two objects are equal"
   ]
  }
 ],
 "metadata": {
  "language_info": {
   "name": "python"
  }
 },
 "nbformat": 4,
 "nbformat_minor": 2
}
