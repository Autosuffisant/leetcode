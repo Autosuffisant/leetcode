{
 "cells": [
  {
   "cell_type": "markdown",
   "metadata": {},
   "source": [
    "### 2225. Find Players With Zero or One Losses\n",
    "\n",
    "Difficulty: **Medium**\n",
    "\n",
    "You are given an integer array matches where matches[i] = [winneri, loseri] indicates that the player winneri defeated player loseri in a match.\n",
    "\n",
    "Return a list answer of size 2 where:\n",
    "\n",
    "answer[0] is a list of all players that have not lost any matches.\n",
    "answer[1] is a list of all players that have lost exactly one match.\n",
    "The values in the two lists should be returned in increasing order.\n",
    "\n",
    "Note:\n",
    "\n",
    "You should only consider the players that have played at least one match.\n",
    "The testcases will be generated such that no two matches will have the same outcome.\n",
    "\n",
    "Example 1:\n",
    "\n",
    "Input: matches = [[1,3],[2,3],[3,6],[5,6],[5,7],[4,5],[4,8],[4,9],[10,4],[10,9]]\n",
    "Output: [[1,2,10],[4,5,7,8]]\n",
    "Explanation:\n",
    "Players 1, 2, and 10 have not lost any matches.\n",
    "Players 4, 5, 7, and 8 each have lost one match.\n",
    "Players 3, 6, and 9 each have lost two matches.\n",
    "Thus, answer[0] = [1,2,10] and answer[1] = [4,5,7,8].\n",
    "Example 2:\n",
    "\n",
    "Input: matches = [[2,3],[1,3],[5,4],[6,4]]\n",
    "Output: [[1,2,5,6],[]]\n",
    "Explanation:\n",
    "Players 1, 2, 5, and 6 have not lost any matches.\n",
    "Players 3 and 4 each have lost two matches.\n",
    "Thus, answer[0] = [1,2,5,6] and answer[1] = [].\n",
    " \n",
    "\n",
    "Constraints:\n",
    "\n",
    "- 1 <= matches.length <= 105\n",
    "- matches[i].length == 2\n",
    "- 1 <= winner<sub>i</sub>, loser<sub>i</sub> <= 105\n",
    "- winner<sub>i</sub> != loser<sub>i</sub>\n",
    "- All matches[i] are unique."
   ]
  },
  {
   "cell_type": "code",
   "execution_count": null,
   "metadata": {},
   "outputs": [],
   "source": [
    "# Import types for type hinting\n",
    "from typing import List, dict"
   ]
  },
  {
   "cell_type": "code",
   "execution_count": null,
   "metadata": {},
   "outputs": [],
   "source": [
    "class Solution:\n",
    "    def findWinners(self, matches: List[List[int]]) -> List[List[int]]:\n",
    "        losers = dict()\n",
    "        answer = [[], []]\n",
    "\n",
    "        for match in matches:\n",
    "            losers[match[0]] = losers.get(match[0], 0)\n",
    "            losers[match[1]] = losers.get(match[1], 0) + 1\n",
    "\n",
    "        for key in sorted(losers.keys()):\n",
    "            if losers[key] == 0:\n",
    "                answer[0].append(int(key))\n",
    "            if losers[key] == 1:\n",
    "                answer[1].append(int(key))\n",
    "\n",
    "        return answer"
   ]
  },
  {
   "cell_type": "markdown",
   "metadata": {},
   "source": [
    "## Submission results\n",
    "\n",
    "|#|% of tests passed|Runtime (ms)|Memory usage (MB)|Language|\n",
    "|---|---|---|---|---|\n",
    "|1|100%|1417|72.4|Python3|"
   ]
  }
 ],
 "metadata": {
  "language_info": {
   "name": "python"
  }
 },
 "nbformat": 4,
 "nbformat_minor": 2
}
