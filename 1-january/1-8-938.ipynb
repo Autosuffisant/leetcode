{
 "cells": [
  {
   "cell_type": "markdown",
   "metadata": {},
   "source": [
    "### 938. Range Sum of BST\n",
    "\n",
    "Difficulty: **Easy**\n",
    "\n",
    "Given the root node of a binary search tree and two integers low and high, return the sum of values of all nodes with a value in the inclusive range [low, high].\n",
    "\n",
    "Example 1:\n",
    "\n",
    "Input: root = [10,5,15,3,7,null,18], low = 7, high = 15\n",
    "Output: 32\n",
    "Explanation: Nodes 7, 10, and 15 are in the range [7, 15]. 7 + 10 + 15 = 32.\n",
    "\n",
    "Example 2:\n",
    "\n",
    "Input: root = [10,5,15,3,7,13,18,1,null,6], low = 6, high = 10\n",
    "Output: 23\n",
    "Explanation: Nodes 6, 7, and 10 are in the range [6, 10]. 6 + 7 + 10 = 23.\n",
    "\n",
    "Constraints:\n",
    "\n",
    "- The number of nodes in the tree is in the range [1, 2 * 104].\n",
    "- 1 <= Node.val <= 105\n",
    "- 1 <= low <= high <= 105\n",
    "- All Node.val are unique."
   ]
  },
  {
   "cell_type": "code",
   "execution_count": null,
   "metadata": {},
   "outputs": [],
   "source": [
    "# Import types for type hinting\n",
    "from typing import Optional"
   ]
  },
  {
   "cell_type": "code",
   "execution_count": null,
   "metadata": {},
   "outputs": [],
   "source": [
    "# Definition for a binary tree node.\n",
    "class TreeNode:\n",
    "    def __init__(self, val=0, left=None, right=None):\n",
    "        self.val = val\n",
    "        self.left = left\n",
    "        self.right = right\n",
    "\n",
    "class Solution:\n",
    "    def rangeSumBST(self, root: Optional[TreeNode], low: int, high: int) -> int:\n",
    "        self.sum = 0\n",
    "        self.low = low\n",
    "        self.high = high\n",
    "\n",
    "        def DFS(node: Optional[TreeNode]):\n",
    "            if node.val >= self.low and node.val <= self.high:\n",
    "                self.sum += node.val\n",
    "            if node.left:\n",
    "                DFS(node.left)\n",
    "            if node.right:\n",
    "                DFS(node.right)\n",
    "            return\n",
    "\n",
    "        DFS(root)\n",
    "\n",
    "        return self.sum\n"
   ]
  },
  {
   "cell_type": "markdown",
   "metadata": {},
   "source": [
    "### Submissions\n",
    "\n",
    "|#|% of tests passed|Runtime (ms)|Memory usage (MB)|Language|\n",
    "|---|---|---|---|---|\n",
    "|1|100|126|24.48|Python3|"
   ]
  }
 ],
 "metadata": {
  "language_info": {
   "name": "python"
  }
 },
 "nbformat": 4,
 "nbformat_minor": 2
}
