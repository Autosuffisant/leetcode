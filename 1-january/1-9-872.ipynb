{
 "cells": [
  {
   "cell_type": "markdown",
   "metadata": {},
   "source": [
    "### 872. Leaf-Similar Trees\n",
    "\n",
    "Difficulty: **Easy**\n",
    "\n",
    "Consider all the leaves of a binary tree, from left to right order, the values of those leaves form a leaf value sequence.\n",
    "\n",
    "For example, in the given tree above, the leaf value sequence is (6, 7, 4, 9, 8).\n",
    "\n",
    "Two binary trees are considered leaf-similar if their leaf value sequence is the same.\n",
    "\n",
    "Return true if and only if the two given trees with head nodes root1 and root2 are leaf-similar.\n",
    "\n",
    "Example 1:\n",
    "\n",
    "Input: root1 = [3,5,1,6,2,9,8,null,null,7,4], root2 = [3,5,1,6,7,4,2,null,null,null,null,null,null,9,8]\n",
    "Output: true\n",
    "Example 2:\n",
    "\n",
    "Input: root1 = [1,2,3], root2 = [1,3,2]\n",
    "Output: false\n",
    " \n",
    "Constraints:\n",
    "\n",
    "- The number of nodes in each tree will be in the range [1, 200].\n",
    "- Both of the given trees will have values in the range [0, 200]."
   ]
  },
  {
   "cell_type": "code",
   "execution_count": null,
   "metadata": {},
   "outputs": [],
   "source": [
    "# Import typing for type hinting\n",
    "from typing import List, Optional"
   ]
  },
  {
   "cell_type": "code",
   "execution_count": null,
   "metadata": {},
   "outputs": [],
   "source": [
    "# Definition for a binary tree node.\n",
    "class TreeNode:\n",
    "    def __init__(self, val=0, left=None, right=None):\n",
    "        self.val = val\n",
    "        self.left = left\n",
    "        self.right = right\n",
    "\n",
    "class Solution:\n",
    "    def leafSimilar(self, root1: Optional[TreeNode], root2: Optional[TreeNode]) -> bool:\n",
    "        # To find leaves from left to right, apply the DFS algorithm\n",
    "        root1Leaves = []\n",
    "        root2Leaves = []\n",
    "\n",
    "        def DFS(node: Optional[TreeNode], leavesList: List):\n",
    "            if not node:\n",
    "                return\n",
    "            if not node.left and not node.right:\n",
    "                leavesList.append(node.val)\n",
    "            else:\n",
    "                DFS(node.left, leavesList)\n",
    "                DFS(node.right, leavesList)\n",
    "\n",
    "        DFS(root1, root1Leaves)\n",
    "        DFS(root2, root2Leaves)\n",
    "\n",
    "        return root1Leaves == root2Leaves\n"
   ]
  },
  {
   "cell_type": "markdown",
   "metadata": {},
   "source": [
    "### Submissions\n",
    "\n",
    "|#|% of tests passed|Runtime (ms)|Memory usage (MB)|Language|\n",
    "|---|---|---|---|---|\n",
    "|1|100|33|81.61|17.24|Python3|"
   ]
  }
 ],
 "metadata": {
  "language_info": {
   "name": "python"
  }
 },
 "nbformat": 4,
 "nbformat_minor": 2
}
