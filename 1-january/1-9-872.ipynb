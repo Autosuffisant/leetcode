{
 "cells": [
  {
   "cell_type": "code",
   "execution_count": null,
   "metadata": {},
   "outputs": [],
   "source": [
    "# Import typing for type hinting\n",
    "from typing import List, Optional"
   ]
  },
  {
   "cell_type": "code",
   "execution_count": null,
   "metadata": {},
   "outputs": [],
   "source": [
    "# Definition for a binary tree node.\n",
    "class TreeNode:\n",
    "    def __init__(self, val=0, left=None, right=None):\n",
    "        self.val = val\n",
    "        self.left = left\n",
    "        self.right = right\n",
    "\n",
    "class Solution:\n",
    "    def leafSimilar(self, root1: Optional[TreeNode], root2: Optional[TreeNode]) -> bool:\n",
    "        # To find leaves from left to right, apply the DFS algorithm\n",
    "        root1Leaves = []\n",
    "        root2Leaves = []\n",
    "\n",
    "        def DFS(node: Optional[TreeNode], leavesList: List):\n",
    "            if not node:\n",
    "                return\n",
    "            if not node.left and not node.right:\n",
    "                leavesList.append(node.val)\n",
    "            else:\n",
    "                DFS(node.left, leavesList)\n",
    "                DFS(node.right, leavesList)\n",
    "\n",
    "        DFS(root1, root1Leaves)\n",
    "        DFS(root2, root2Leaves)\n",
    "\n",
    "        return root1Leaves == root2Leaves\n"
   ]
  }
 ],
 "metadata": {
  "language_info": {
   "name": "python"
  }
 },
 "nbformat": 4,
 "nbformat_minor": 2
}
