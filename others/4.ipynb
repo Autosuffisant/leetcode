{
 "cells": [
  {
   "cell_type": "markdown",
   "metadata": {},
   "source": [
    "### 4. Median of Two Sorted Arrays\n",
    "\n",
    "Difficulty: **Hard**\n",
    "\n",
    "Given two sorted arrays nums1 and nums2 of size m and n respectively, return the median of the two sorted arrays.\n",
    "\n",
    "The overall run time complexity should be O(log (m+n)).\n",
    "\n",
    "Example 1:\n",
    "\n",
    "Input: nums1 = [1,3], nums2 = [2]\n",
    "Output: 2.00000\n",
    "Explanation: merged array = [1,2,3] and median is 2.\n",
    "Example 2:\n",
    "\n",
    "Input: nums1 = [1,2], nums2 = [3,4]\n",
    "Output: 2.50000\n",
    "Explanation: merged array = [1,2,3,4] and median is (2 + 3) / 2 = 2.5.\n",
    "\n",
    "Constraints:\n",
    "\n",
    "- nums1.length == m\n",
    "- nums2.length == n\n",
    "- 0 <= m <= 1000\n",
    "- 0 <= n <= 1000\n",
    "- 1 <= m + n <= 2000\n"
   ]
  },
  {
   "cell_type": "code",
   "execution_count": null,
   "metadata": {},
   "outputs": [],
   "source": [
    "# Import typing for type hinting\n",
    "from typing import List"
   ]
  },
  {
   "cell_type": "code",
   "execution_count": null,
   "metadata": {},
   "outputs": [],
   "source": [
    "class Solution:\n",
    "    def findMedianSortedArrays(self, nums1: List[int], nums2: List[int]) -> float:\n",
    "        sortedNums = nums1 + nums2\n",
    "\n",
    "        sortedNums.sort()\n",
    "\n",
    "        numsLen = len(sortedNums)\n",
    "\n",
    "        if numsLen % 2 is not 0:\n",
    "            return sortedNums[numsLen // 2]\n",
    "        else:\n",
    "            return (sortedNums[(numsLen // 2) - 1] + sortedNums[numsLen // 2]) / 2"
   ]
  },
  {
   "cell_type": "markdown",
   "metadata": {},
   "source": [
    "## Submission results\n",
    "\n",
    "1. Solution (python3)\n",
    "    - Runtime: Beats 89.33% of users\n",
    "    - Memory Usage: Beats 16.97% of users"
   ]
  }
 ],
 "metadata": {
  "kernelspec": {
   "display_name": "Python 3",
   "language": "python",
   "name": "python3"
  },
  "language_info": {
   "name": "python",
   "version": "3.11.6"
  }
 },
 "nbformat": 4,
 "nbformat_minor": 2
}
