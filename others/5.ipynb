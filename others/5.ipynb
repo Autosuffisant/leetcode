{
 "cells": [
  {
   "cell_type": "markdown",
   "metadata": {},
   "source": [
    "### 5. Longest Palindromic Substring\n",
    "\n",
    "Difficulty: **Medium**\n",
    "\n",
    "Given a string s, return the longest \n",
    "palindromic substring in s.\n",
    "\n",
    "Example 1:\n",
    "\n",
    "Input: s = \"babad\"\n",
    "Output: \"bab\"\n",
    "Explanation: \"aba\" is also a valid answer.\n",
    "Example 2:\n",
    "\n",
    "Input: s = \"cbbd\"\n",
    "Output: \"bb\"\n",
    " \n",
    "\n",
    "Constraints:\n",
    "\n",
    "- 1 <= s.length <= 1000\n",
    "- s consist of only digits and English letters."
   ]
  },
  {
   "cell_type": "code",
   "execution_count": null,
   "metadata": {},
   "outputs": [],
   "source": [
    "class Solution:\n",
    "    def longestPalindrome(self, s: str) -> str:\n",
    "        if len(s) <= 1:\n",
    "            return s\n",
    "\n",
    "        maxLen=1\n",
    "        longestPalindrome=s[0]\n",
    "        bogus = \"|\"\n",
    "        s = bogus + bogus.join(s) + bogus\n",
    "        sLen = len(s)\n",
    "        radii = [0 for _ in range(sLen)]\n",
    "        center = 0\n",
    "        radius = 0\n",
    "\n",
    "        for i in range(sLen):\n",
    "            if i < radius:\n",
    "                radii[i] = min(radius-i, radii[2*center-i])\n",
    "            while i-radii[i]-1 >= 0 and i+radii[i]+1 < sLen and s[i-radii[i]-1] == s[i+radii[i]+1]:\n",
    "                radii[i] += 1\n",
    "            if i+radii[i] > radius:\n",
    "                center = i\n",
    "                radius = i+radii[i]\n",
    "            if radii[i] > maxLen:\n",
    "                maxLen = radii[i]\n",
    "                longestPalindrome = s[i-radii[i]:i+radii[i]+1].replace(bogus,'')\n",
    "        return longestPalindrome"
   ]
  },
  {
   "cell_type": "markdown",
   "metadata": {},
   "source": [
    "## Submissions results\n",
    "\n",
    "- Runtime: Beats 94.83% of users\n",
    "- Memory: Beats 23.15% of users\n",
    "\n",
    "## Lesson of the day\n",
    "\n",
    "- To understand this code, read about the Manacher's algorithm, it is tailored for this specific problem."
   ]
  }
 ],
 "metadata": {
  "kernelspec": {
   "display_name": "Python 3",
   "language": "python",
   "name": "python3"
  },
  "language_info": {
   "name": "python",
   "version": "3.11.6"
  }
 },
 "nbformat": 4,
 "nbformat_minor": 2
}
